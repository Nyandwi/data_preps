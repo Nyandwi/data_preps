{
  "nbformat": 4,
  "nbformat_minor": 0,
  "metadata": {
    "kernelspec": {
      "display_name": "Python 3",
      "language": "python",
      "name": "python3"
    },
    "language_info": {
      "codemirror_mode": {
        "name": "ipython",
        "version": 3
      },
      "file_extension": ".py",
      "mimetype": "text/x-python",
      "name": "python",
      "nbconvert_exporter": "python",
      "pygments_lexer": "ipython3",
      "version": "3.8.3"
    },
    "colab": {
      "name": "How do you handle Missing data effectively.ipynb",
      "provenance": [],
      "include_colab_link": true
    }
  },
  "cells": [
    {
      "cell_type": "markdown",
      "metadata": {
        "id": "view-in-github",
        "colab_type": "text"
      },
      "source": [
        "<a href=\"https://colab.research.google.com/github/Nyandwi/data_preps/blob/main/Handling%20missing%20values.ipynb\" target=\"_parent\"><img src=\"https://colab.research.google.com/assets/colab-badge.svg\" alt=\"Open In Colab\"/></a>"
      ]
    },
    {
      "cell_type": "markdown",
      "metadata": {
        "id": "hHtbJhRcVPBL"
      },
      "source": [
        "# A Comprehensive guide to handle missing values effectively working with messy data"
      ]
    },
    {
      "cell_type": "markdown",
      "metadata": {
        "id": "IaHWFHSDVPBM"
      },
      "source": [
        "## You drop Missing data, but how do you know you did it effectively?"
      ]
    },
    {
      "cell_type": "markdown",
      "metadata": {
        "id": "KADzKge3VPBN"
      },
      "source": [
        "**Author: Jean de Dieu Nyandwi. Check out a story published on the Medium and Hashnode associated with this tutorial.**"
      ]
    },
    {
      "cell_type": "markdown",
      "metadata": {
        "id": "TaQufesGVPBN"
      },
      "source": [
        "It's not often that we get clean data, real world data is very messy. In fact, missing values are one of the most cases that data scientist and machine learning engineers are likely to deal with day to day, and honestly it takes time to come up with the strategy to remove such missing values effectively. \n",
        "\n",
        "Though we have tools that make the technical side easier, we often end up not checking how the filled values or dropped values fit with the existing data and the target goals of the analysis. Not checking this can leave us communicating wrong information, or spending time doing hyperparameter tuning and model selection thinking that the data is fine, so it must be something else, and end up tuning the parameters weeks and weeks. \n",
        "\n",
        "Having said that, in this tutorial I will walk through the common ways that data scientists and machine learning engineers use to handle missing values and we will see the best practices as we conclude the post. Let's get dive in! I will use california housing, a classic dataset in Machine learning found [here](https://www.kaggle.com/search?q=California+housing+in%3Adatasets)."
      ]
    },
    {
      "cell_type": "code",
      "metadata": {
        "id": "4BpHYmQdVPBO"
      },
      "source": [
        "#from sklearn.datasets import california_housing\n",
        "#This loads the california dataset from sklearn.datasets but since it is preprocessed, there are no missing values. "
      ],
      "execution_count": null,
      "outputs": []
    },
    {
      "cell_type": "code",
      "metadata": {
        "id": "JzQO9AwdVPBP"
      },
      "source": [
        "#I will start importing all required libraries. \n",
        "\n",
        "import pandas as pd\n",
        "import numpy as np\n",
        "import seaborn as sns\n",
        "import matplotlib.pyplot as plt"
      ],
      "execution_count": null,
      "outputs": []
    },
    {
      "cell_type": "code",
      "metadata": {
        "id": "bu5rftw5VPBQ"
      },
      "source": [
        "housing= pd.read_csv('housing.csv')"
      ],
      "execution_count": null,
      "outputs": []
    },
    {
      "cell_type": "code",
      "metadata": {
        "id": "aW1rcJJfVPBQ",
        "outputId": "506eae06-3388-4a0d-980d-1b8c3fba8cdc"
      },
      "source": [
        "housing.head()"
      ],
      "execution_count": null,
      "outputs": [
        {
          "output_type": "execute_result",
          "data": {
            "text/html": [
              "<div>\n",
              "<style scoped>\n",
              "    .dataframe tbody tr th:only-of-type {\n",
              "        vertical-align: middle;\n",
              "    }\n",
              "\n",
              "    .dataframe tbody tr th {\n",
              "        vertical-align: top;\n",
              "    }\n",
              "\n",
              "    .dataframe thead th {\n",
              "        text-align: right;\n",
              "    }\n",
              "</style>\n",
              "<table border=\"1\" class=\"dataframe\">\n",
              "  <thead>\n",
              "    <tr style=\"text-align: right;\">\n",
              "      <th></th>\n",
              "      <th>longitude</th>\n",
              "      <th>latitude</th>\n",
              "      <th>housing_median_age</th>\n",
              "      <th>total_rooms</th>\n",
              "      <th>total_bedrooms</th>\n",
              "      <th>population</th>\n",
              "      <th>households</th>\n",
              "      <th>median_income</th>\n",
              "      <th>median_house_value</th>\n",
              "      <th>ocean_proximity</th>\n",
              "    </tr>\n",
              "  </thead>\n",
              "  <tbody>\n",
              "    <tr>\n",
              "      <th>0</th>\n",
              "      <td>-122.23</td>\n",
              "      <td>37.88</td>\n",
              "      <td>41</td>\n",
              "      <td>880</td>\n",
              "      <td>129.0</td>\n",
              "      <td>322</td>\n",
              "      <td>126</td>\n",
              "      <td>8.3252</td>\n",
              "      <td>452600</td>\n",
              "      <td>NEAR BAY</td>\n",
              "    </tr>\n",
              "    <tr>\n",
              "      <th>1</th>\n",
              "      <td>-122.22</td>\n",
              "      <td>37.86</td>\n",
              "      <td>21</td>\n",
              "      <td>7099</td>\n",
              "      <td>1106.0</td>\n",
              "      <td>2401</td>\n",
              "      <td>1138</td>\n",
              "      <td>8.3014</td>\n",
              "      <td>358500</td>\n",
              "      <td>NEAR BAY</td>\n",
              "    </tr>\n",
              "    <tr>\n",
              "      <th>2</th>\n",
              "      <td>-122.24</td>\n",
              "      <td>37.85</td>\n",
              "      <td>52</td>\n",
              "      <td>1467</td>\n",
              "      <td>190.0</td>\n",
              "      <td>496</td>\n",
              "      <td>177</td>\n",
              "      <td>7.2574</td>\n",
              "      <td>352100</td>\n",
              "      <td>NEAR BAY</td>\n",
              "    </tr>\n",
              "    <tr>\n",
              "      <th>3</th>\n",
              "      <td>-122.25</td>\n",
              "      <td>37.85</td>\n",
              "      <td>52</td>\n",
              "      <td>1274</td>\n",
              "      <td>NaN</td>\n",
              "      <td>558</td>\n",
              "      <td>219</td>\n",
              "      <td>5.6431</td>\n",
              "      <td>341300</td>\n",
              "      <td>NEAR BAY</td>\n",
              "    </tr>\n",
              "    <tr>\n",
              "      <th>4</th>\n",
              "      <td>-122.25</td>\n",
              "      <td>37.85</td>\n",
              "      <td>52</td>\n",
              "      <td>1627</td>\n",
              "      <td>NaN</td>\n",
              "      <td>565</td>\n",
              "      <td>259</td>\n",
              "      <td>3.8462</td>\n",
              "      <td>342200</td>\n",
              "      <td>NEAR BAY</td>\n",
              "    </tr>\n",
              "  </tbody>\n",
              "</table>\n",
              "</div>"
            ],
            "text/plain": [
              "   longitude  latitude  housing_median_age  total_rooms  total_bedrooms  \\\n",
              "0    -122.23     37.88                  41          880           129.0   \n",
              "1    -122.22     37.86                  21         7099          1106.0   \n",
              "2    -122.24     37.85                  52         1467           190.0   \n",
              "3    -122.25     37.85                  52         1274             NaN   \n",
              "4    -122.25     37.85                  52         1627             NaN   \n",
              "\n",
              "   population  households  median_income  median_house_value ocean_proximity  \n",
              "0         322         126         8.3252              452600        NEAR BAY  \n",
              "1        2401        1138         8.3014              358500        NEAR BAY  \n",
              "2         496         177         7.2574              352100        NEAR BAY  \n",
              "3         558         219         5.6431              341300        NEAR BAY  \n",
              "4         565         259         3.8462              342200        NEAR BAY  "
            ]
          },
          "metadata": {
            "tags": []
          },
          "execution_count": 3
        }
      ]
    },
    {
      "cell_type": "code",
      "metadata": {
        "id": "qEZeyCehVPBR",
        "outputId": "1b9d1119-a4d0-4b08-b006-f181811f2fdb"
      },
      "source": [
        "housing.isna().sum()"
      ],
      "execution_count": null,
      "outputs": [
        {
          "output_type": "execute_result",
          "data": {
            "text/plain": [
              "longitude               0\n",
              "latitude                0\n",
              "housing_median_age      0\n",
              "total_rooms             0\n",
              "total_bedrooms        226\n",
              "population              0\n",
              "households              0\n",
              "median_income           0\n",
              "median_house_value      0\n",
              "ocean_proximity         0\n",
              "dtype: int64"
            ]
          },
          "metadata": {
            "tags": []
          },
          "execution_count": 4
        }
      ]
    },
    {
      "cell_type": "markdown",
      "metadata": {
        "id": "W0s_m41JVPBS"
      },
      "source": [
        "It seems that we only have missing values in total_bedrooms. It would be better to have many features missing values fr this experiment, but let's go on. "
      ]
    },
    {
      "cell_type": "markdown",
      "metadata": {
        "id": "91INP6K4VPBS"
      },
      "source": [
        "Now we know the feature which is missing values, let's do some analysis around it and then go through the techniques to handle the feature, but trying to understand."
      ]
    },
    {
      "cell_type": "markdown",
      "metadata": {
        "id": "U_TSePIQVPBS"
      },
      "source": [
        "## Eploratory Data Analysis"
      ]
    },
    {
      "cell_type": "code",
      "metadata": {
        "id": "tlVjiznoVPBT",
        "outputId": "41b8ded9-5fea-4956-da26-ee4f374f781c"
      },
      "source": [
        "sns.pairplot(housing, vars=['total_bedrooms', 'total_rooms','households','housing_median_age' ])"
      ],
      "execution_count": null,
      "outputs": [
        {
          "output_type": "execute_result",
          "data": {
            "text/plain": [
              "<seaborn.axisgrid.PairGrid at 0x7fd078f49a60>"
            ]
          },
          "metadata": {
            "tags": []
          },
          "execution_count": 5
        },
        {
          "output_type": "display_data",
          "data": {
            "image/png": "[encoded data removed]",
            "text/plain": [
              "<Figure size 720x720 with 20 Axes>"
            ]
          },
          "metadata": {
            "tags": [],
            "needs_background": "light"
          }
        }
      ]
    },
    {
      "cell_type": "markdown",
      "metadata": {
        "id": "1PGgW9SiVPBT"
      },
      "source": [
        "While our experiment is not about exploratory data analysis at most, you can see that the total bedrooms correlate with total rooms, and that make sense because the bedrooms are counted in total rooms."
      ]
    },
    {
      "cell_type": "code",
      "metadata": {
        "id": "WlkGLJ3QVPBU",
        "outputId": "6d370427-5f25-4c85-e290-9b79d71e2f5f"
      },
      "source": [
        "housing['total_bedrooms'].plot(kind='hist')\n",
        "plt.xlabel('Total bedrooms')"
      ],
      "execution_count": null,
      "outputs": [
        {
          "output_type": "execute_result",
          "data": {
            "text/plain": [
              "Text(0.5, 0, 'Total bedrooms')"
            ]
          },
          "metadata": {
            "tags": []
          },
          "execution_count": 26
        },
        {
          "output_type": "display_data",
          "data": {
            "image/png": "[encoded data removed]",
            "text/plain": [
              "<Figure size 432x288 with 1 Axes>"
            ]
          },
          "metadata": {
            "tags": [],
            "needs_background": "light"
          }
        }
      ]
    },
    {
      "cell_type": "markdown",
      "metadata": {
        "id": "6FodYStJVPBU"
      },
      "source": [
        "You can see that most houses have bedrooms between 0 to 1000. Very few houses have over 1000 bedrooms. "
      ]
    },
    {
      "cell_type": "code",
      "metadata": {
        "id": "C_SxX6M1VPBV",
        "outputId": "4a1e5f13-fdab-4e6e-eac6-7f0914b1e206"
      },
      "source": [
        "print('Recall that the missing values in our dataset are:\\n \\n{}'.format(housing.isna().sum()))"
      ],
      "execution_count": null,
      "outputs": [
        {
          "output_type": "stream",
          "text": [
            "Recall that the missing values in our dataset are:\n",
            " \n",
            "longitude               0\n",
            "latitude                0\n",
            "housing_median_age      0\n",
            "total_rooms             0\n",
            "total_bedrooms        226\n",
            "population              0\n",
            "households              0\n",
            "median_income           0\n",
            "median_house_value      0\n",
            "ocean_proximity         0\n",
            "dtype: int64\n"
          ],
          "name": "stdout"
        }
      ]
    },
    {
      "cell_type": "markdown",
      "metadata": {
        "id": "SJHvwsptVPBV"
      },
      "source": [
        "## Handling Missing Values"
      ]
    },
    {
      "cell_type": "markdown",
      "metadata": {
        "id": "uHbLwGCeVPBV"
      },
      "source": [
        "There are number of methods to handle missing values, but basically, you can do one of these but keep in mind that each can affect our analysis:\n",
        "    \n",
        "    *Removing the missing values\n",
        "    *Filling the missing values\n",
        "    *Leaving the missing values as it is.\n",
        "    \n",
        "    \n",
        "Starting from the first one, if you were to remove the missing values, fairly simple. You can do the following, and you are done. "
      ]
    },
    {
      "cell_type": "markdown",
      "metadata": {
        "id": "swq_koqiVPBW"
      },
      "source": [
        "### Removing the missing values"
      ]
    },
    {
      "cell_type": "code",
      "metadata": {
        "id": "Ty1qlC90VPBW"
      },
      "source": [
        "housing_df=housing.copy()"
      ],
      "execution_count": null,
      "outputs": []
    },
    {
      "cell_type": "code",
      "metadata": {
        "id": "JWjes6tzVPBW"
      },
      "source": [
        "housin_null_dropped=housing.dropna()"
      ],
      "execution_count": null,
      "outputs": []
    },
    {
      "cell_type": "code",
      "metadata": {
        "id": "3RUhzJIeVPBW",
        "outputId": "5b122f3e-4d8a-4670-f1fc-50b15f85ed1f"
      },
      "source": [
        "housin_null_dropped.isnull().sum()"
      ],
      "execution_count": null,
      "outputs": [
        {
          "output_type": "execute_result",
          "data": {
            "text/plain": [
              "longitude             0\n",
              "latitude              0\n",
              "housing_median_age    0\n",
              "total_rooms           0\n",
              "total_bedrooms        0\n",
              "population            0\n",
              "households            0\n",
              "median_income         0\n",
              "median_house_value    0\n",
              "ocean_proximity       0\n",
              "dtype: int64"
            ]
          },
          "metadata": {
            "tags": []
          },
          "execution_count": 11
        }
      ]
    },
    {
      "cell_type": "markdown",
      "metadata": {
        "id": "9YnGq1_GVPBX"
      },
      "source": [
        "Now, you're done. However, you can wish to remove the missing values by a condition. In this case, you can do the following. Say you want to remove the columns that contain missing values. Since we don't have more than 1 of such columns, this will not change our dataset, but that's something you can try at your end. "
      ]
    },
    {
      "cell_type": "code",
      "metadata": {
        "id": "jxa8DklyVPBX"
      },
      "source": [
        "housin_null_dropped_2=housing.dropna(axis='columns') "
      ],
      "execution_count": null,
      "outputs": []
    },
    {
      "cell_type": "code",
      "metadata": {
        "id": "ufXQ1gl1VPBX",
        "outputId": "373231c0-71a5-4476-a3f8-fb8853d94b76"
      },
      "source": [
        "housin_null_dropped_2.isnull().sum()"
      ],
      "execution_count": null,
      "outputs": [
        {
          "output_type": "execute_result",
          "data": {
            "text/plain": [
              "longitude             0\n",
              "latitude              0\n",
              "housing_median_age    0\n",
              "total_rooms           0\n",
              "population            0\n",
              "households            0\n",
              "median_income         0\n",
              "median_house_value    0\n",
              "ocean_proximity       0\n",
              "dtype: int64"
            ]
          },
          "metadata": {
            "tags": []
          },
          "execution_count": 13
        }
      ]
    },
    {
      "cell_type": "markdown",
      "metadata": {
        "id": "QHhASJr4VPBY"
      },
      "source": [
        "As you can see, total_bedroom is removed. This is can however led to the loss of data that could be meanigful despite that it contains NaNs. If you wanted more control, then you can use 'threshold' to specify how many non missing values (minimum) to keep for a given column or row. We will not see the effect of this, but you can try that on your end."
      ]
    },
    {
      "cell_type": "code",
      "metadata": {
        "id": "H_VjWQIBVPBY"
      },
      "source": [
        "housin_null_dropped_2=housing.dropna(axis='columns', thresh=2) "
      ],
      "execution_count": null,
      "outputs": []
    },
    {
      "cell_type": "code",
      "metadata": {
        "id": "FKwSeXM1VPBY",
        "outputId": "b03cf6c8-0042-411c-96c9-9c287771320f"
      },
      "source": [
        "housin_null_dropped_2.isnull().sum()"
      ],
      "execution_count": null,
      "outputs": [
        {
          "output_type": "execute_result",
          "data": {
            "text/plain": [
              "longitude               0\n",
              "latitude                0\n",
              "housing_median_age      0\n",
              "total_rooms             0\n",
              "total_bedrooms        226\n",
              "population              0\n",
              "households              0\n",
              "median_income           0\n",
              "median_house_value      0\n",
              "ocean_proximity         0\n",
              "dtype: int64"
            ]
          },
          "metadata": {
            "tags": []
          },
          "execution_count": 87
        }
      ]
    },
    {
      "cell_type": "markdown",
      "metadata": {
        "id": "0l0Zh_e6VPBZ"
      },
      "source": [
        "Another Interesting thing here to try is to remove the rows or columns that are empty. This can save you time if you have hundreds of columns or rows that you want to remove specifically. When how is set to 'all', you are basically saying remove all columns which are all null (contain missing values). **All the thing we saw so far involving the axis='columns', can be applied to rows**"
      ]
    },
    {
      "cell_type": "code",
      "metadata": {
        "id": "F0WL66rNVPBZ"
      },
      "source": [
        "housin_null_dropped_3=housing.dropna(axis='columns', how='all') "
      ],
      "execution_count": null,
      "outputs": []
    },
    {
      "cell_type": "markdown",
      "metadata": {
        "id": "JpKW_Sv_VPBa"
      },
      "source": [
        "### Filling the missing values"
      ]
    },
    {
      "cell_type": "markdown",
      "metadata": {
        "id": "F9EH3yOIVPBa"
      },
      "source": [
        "With pandas, filling the missing values is quite straight. Here is how you can fill the any missing value with a number. "
      ]
    },
    {
      "cell_type": "code",
      "metadata": {
        "id": "OlD3YG5AVPBa"
      },
      "source": [
        "housing_filled=housing.fillna(3)"
      ],
      "execution_count": null,
      "outputs": []
    },
    {
      "cell_type": "code",
      "metadata": {
        "id": "EHWhaipWVPBb",
        "outputId": "59735836-dd15-47ed-89e3-3ad5d189330f"
      },
      "source": [
        "housing_filled.isnull().sum()"
      ],
      "execution_count": null,
      "outputs": [
        {
          "output_type": "execute_result",
          "data": {
            "text/plain": [
              "longitude             0\n",
              "latitude              0\n",
              "housing_median_age    0\n",
              "total_rooms           0\n",
              "total_bedrooms        0\n",
              "population            0\n",
              "households            0\n",
              "median_income         0\n",
              "median_house_value    0\n",
              "ocean_proximity       0\n",
              "dtype: int64"
            ]
          },
          "metadata": {
            "tags": []
          },
          "execution_count": 90
        }
      ]
    },
    {
      "cell_type": "markdown",
      "metadata": {
        "id": "I_CFNfXKVPBb"
      },
      "source": [
        "You could also use the ffill (forward fill) or backward fill 'bfill', where you fill the values preeceding or following the missing value. "
      ]
    },
    {
      "cell_type": "code",
      "metadata": {
        "id": "f6IAGmXiVPBb"
      },
      "source": [
        "housing_filled=housing.fillna(method='ffill') #method='bfill' for backward"
      ],
      "execution_count": null,
      "outputs": []
    },
    {
      "cell_type": "markdown",
      "metadata": {
        "id": "TFcudNIdVPBb"
      },
      "source": [
        "This is dangerous though. Let's take an example. "
      ]
    },
    {
      "cell_type": "code",
      "metadata": {
        "id": "k1hjGwdwVPBb",
        "outputId": "51c6ffb7-03a6-4dc5-f85b-3e09bcc0f164"
      },
      "source": [
        "housing_filled.head(100)"
      ],
      "execution_count": null,
      "outputs": [
        {
          "output_type": "execute_result",
          "data": {
            "text/html": [
              "<div>\n",
              "<style scoped>\n",
              "    .dataframe tbody tr th:only-of-type {\n",
              "        vertical-align: middle;\n",
              "    }\n",
              "\n",
              "    .dataframe tbody tr th {\n",
              "        vertical-align: top;\n",
              "    }\n",
              "\n",
              "    .dataframe thead th {\n",
              "        text-align: right;\n",
              "    }\n",
              "</style>\n",
              "<table border=\"1\" class=\"dataframe\">\n",
              "  <thead>\n",
              "    <tr style=\"text-align: right;\">\n",
              "      <th></th>\n",
              "      <th>longitude</th>\n",
              "      <th>latitude</th>\n",
              "      <th>housing_median_age</th>\n",
              "      <th>total_rooms</th>\n",
              "      <th>total_bedrooms</th>\n",
              "      <th>population</th>\n",
              "      <th>households</th>\n",
              "      <th>median_income</th>\n",
              "      <th>median_house_value</th>\n",
              "      <th>ocean_proximity</th>\n",
              "    </tr>\n",
              "  </thead>\n",
              "  <tbody>\n",
              "    <tr>\n",
              "      <th>0</th>\n",
              "      <td>-122.23</td>\n",
              "      <td>37.88</td>\n",
              "      <td>41</td>\n",
              "      <td>880</td>\n",
              "      <td>129.0</td>\n",
              "      <td>322</td>\n",
              "      <td>126</td>\n",
              "      <td>8.3252</td>\n",
              "      <td>452600</td>\n",
              "      <td>NEAR BAY</td>\n",
              "    </tr>\n",
              "    <tr>\n",
              "      <th>1</th>\n",
              "      <td>-122.22</td>\n",
              "      <td>37.86</td>\n",
              "      <td>21</td>\n",
              "      <td>7099</td>\n",
              "      <td>1106.0</td>\n",
              "      <td>2401</td>\n",
              "      <td>1138</td>\n",
              "      <td>8.3014</td>\n",
              "      <td>358500</td>\n",
              "      <td>NEAR BAY</td>\n",
              "    </tr>\n",
              "    <tr>\n",
              "      <th>2</th>\n",
              "      <td>-122.24</td>\n",
              "      <td>37.85</td>\n",
              "      <td>52</td>\n",
              "      <td>1467</td>\n",
              "      <td>190.0</td>\n",
              "      <td>496</td>\n",
              "      <td>177</td>\n",
              "      <td>7.2574</td>\n",
              "      <td>352100</td>\n",
              "      <td>NEAR BAY</td>\n",
              "    </tr>\n",
              "    <tr>\n",
              "      <th>3</th>\n",
              "      <td>-122.25</td>\n",
              "      <td>37.85</td>\n",
              "      <td>52</td>\n",
              "      <td>1274</td>\n",
              "      <td>190.0</td>\n",
              "      <td>558</td>\n",
              "      <td>219</td>\n",
              "      <td>5.6431</td>\n",
              "      <td>341300</td>\n",
              "      <td>NEAR BAY</td>\n",
              "    </tr>\n",
              "    <tr>\n",
              "      <th>4</th>\n",
              "      <td>-122.25</td>\n",
              "      <td>37.85</td>\n",
              "      <td>52</td>\n",
              "      <td>1627</td>\n",
              "      <td>190.0</td>\n",
              "      <td>565</td>\n",
              "      <td>259</td>\n",
              "      <td>3.8462</td>\n",
              "      <td>342200</td>\n",
              "      <td>NEAR BAY</td>\n",
              "    </tr>\n",
              "    <tr>\n",
              "      <th>...</th>\n",
              "      <td>...</td>\n",
              "      <td>...</td>\n",
              "      <td>...</td>\n",
              "      <td>...</td>\n",
              "      <td>...</td>\n",
              "      <td>...</td>\n",
              "      <td>...</td>\n",
              "      <td>...</td>\n",
              "      <td>...</td>\n",
              "      <td>...</td>\n",
              "    </tr>\n",
              "    <tr>\n",
              "      <th>95</th>\n",
              "      <td>-122.26</td>\n",
              "      <td>37.80</td>\n",
              "      <td>36</td>\n",
              "      <td>5329</td>\n",
              "      <td>2477.0</td>\n",
              "      <td>3469</td>\n",
              "      <td>2323</td>\n",
              "      <td>2.0096</td>\n",
              "      <td>130000</td>\n",
              "      <td>NEAR BAY</td>\n",
              "    </tr>\n",
              "    <tr>\n",
              "      <th>96</th>\n",
              "      <td>-122.26</td>\n",
              "      <td>37.82</td>\n",
              "      <td>31</td>\n",
              "      <td>4596</td>\n",
              "      <td>1331.0</td>\n",
              "      <td>2048</td>\n",
              "      <td>1180</td>\n",
              "      <td>2.8345</td>\n",
              "      <td>183800</td>\n",
              "      <td>NEAR BAY</td>\n",
              "    </tr>\n",
              "    <tr>\n",
              "      <th>97</th>\n",
              "      <td>-122.26</td>\n",
              "      <td>37.81</td>\n",
              "      <td>29</td>\n",
              "      <td>335</td>\n",
              "      <td>1331.0</td>\n",
              "      <td>202</td>\n",
              "      <td>91</td>\n",
              "      <td>2.0062</td>\n",
              "      <td>125000</td>\n",
              "      <td>NEAR BAY</td>\n",
              "    </tr>\n",
              "    <tr>\n",
              "      <th>98</th>\n",
              "      <td>-122.26</td>\n",
              "      <td>37.82</td>\n",
              "      <td>22</td>\n",
              "      <td>3682</td>\n",
              "      <td>1270.0</td>\n",
              "      <td>2024</td>\n",
              "      <td>1250</td>\n",
              "      <td>1.2185</td>\n",
              "      <td>170000</td>\n",
              "      <td>NEAR BAY</td>\n",
              "    </tr>\n",
              "    <tr>\n",
              "      <th>99</th>\n",
              "      <td>-122.26</td>\n",
              "      <td>37.82</td>\n",
              "      <td>37</td>\n",
              "      <td>3633</td>\n",
              "      <td>1085.0</td>\n",
              "      <td>1838</td>\n",
              "      <td>980</td>\n",
              "      <td>2.6104</td>\n",
              "      <td>193100</td>\n",
              "      <td>NEAR BAY</td>\n",
              "    </tr>\n",
              "  </tbody>\n",
              "</table>\n",
              "<p>100 rows × 10 columns</p>\n",
              "</div>"
            ],
            "text/plain": [
              "    longitude  latitude  housing_median_age  total_rooms  total_bedrooms  \\\n",
              "0     -122.23     37.88                  41          880           129.0   \n",
              "1     -122.22     37.86                  21         7099          1106.0   \n",
              "2     -122.24     37.85                  52         1467           190.0   \n",
              "3     -122.25     37.85                  52         1274           190.0   \n",
              "4     -122.25     37.85                  52         1627           190.0   \n",
              "..        ...       ...                 ...          ...             ...   \n",
              "95    -122.26     37.80                  36         5329          2477.0   \n",
              "96    -122.26     37.82                  31         4596          1331.0   \n",
              "97    -122.26     37.81                  29          335          1331.0   \n",
              "98    -122.26     37.82                  22         3682          1270.0   \n",
              "99    -122.26     37.82                  37         3633          1085.0   \n",
              "\n",
              "    population  households  median_income  median_house_value ocean_proximity  \n",
              "0          322         126         8.3252              452600        NEAR BAY  \n",
              "1         2401        1138         8.3014              358500        NEAR BAY  \n",
              "2          496         177         7.2574              352100        NEAR BAY  \n",
              "3          558         219         5.6431              341300        NEAR BAY  \n",
              "4          565         259         3.8462              342200        NEAR BAY  \n",
              "..         ...         ...            ...                 ...             ...  \n",
              "95        3469        2323         2.0096              130000        NEAR BAY  \n",
              "96        2048        1180         2.8345              183800        NEAR BAY  \n",
              "97         202          91         2.0062              125000        NEAR BAY  \n",
              "98        2024        1250         1.2185              170000        NEAR BAY  \n",
              "99        1838         980         2.6104              193100        NEAR BAY  \n",
              "\n",
              "[100 rows x 10 columns]"
            ]
          },
          "metadata": {
            "tags": []
          },
          "execution_count": 98
        }
      ]
    },
    {
      "cell_type": "markdown",
      "metadata": {
        "id": "PDZT5RouVPBc"
      },
      "source": [
        "Downside about this is that if the first value would be a missing value, then the rest are same. Also, see what happened at the index 97. The house with total rooms of 335 has a total_bedroom of 1331, which is impossible. All the method introduced above can led to serious bias or wrong results, leading to wrong decisions. Before we wrap how to fill missing values, let's also look at other ways you can use to fill the missing values. Say we want to fill all missing values by mean or median of a given column. \n",
        "\n",
        "In this case, we will use sklearn imputer method to handle this."
      ]
    },
    {
      "cell_type": "code",
      "metadata": {
        "id": "xoxIpWKDVPBc",
        "outputId": "d5dc5f67-b34f-40de-e6b3-ff8c904f2ddf"
      },
      "source": [
        "from sklearn.impute import SimpleImputer\n",
        "housing_numeric=housing.drop('ocean_proximity', axis=1) #Simple imputer only work with numeric features, so we drop the OCEAN_PROXIMITY\n",
        "\n",
        "mean_fill=SimpleImputer(missing_values=np.NaN,strategy='mean')\n",
        "\n",
        "mean_fill.fit(housing_numeric)"
      ],
      "execution_count": null,
      "outputs": [
        {
          "output_type": "execute_result",
          "data": {
            "text/plain": [
              "SimpleImputer()"
            ]
          },
          "metadata": {
            "tags": []
          },
          "execution_count": 15
        }
      ]
    },
    {
      "cell_type": "code",
      "metadata": {
        "id": "fAsQclIlVPBc"
      },
      "source": [
        "mean_filled=mean_fill.transform(housing_numeric)"
      ],
      "execution_count": null,
      "outputs": []
    },
    {
      "cell_type": "code",
      "metadata": {
        "id": "beQ8BhsJVPBc",
        "outputId": "2a6ccc4a-7d53-4490-95cc-9b0f65ec647f"
      },
      "source": [
        "pd.DataFrame(mean_filled, columns=housing_numeric.columns)"
      ],
      "execution_count": null,
      "outputs": [
        {
          "output_type": "execute_result",
          "data": {
            "text/html": [
              "<div>\n",
              "<style scoped>\n",
              "    .dataframe tbody tr th:only-of-type {\n",
              "        vertical-align: middle;\n",
              "    }\n",
              "\n",
              "    .dataframe tbody tr th {\n",
              "        vertical-align: top;\n",
              "    }\n",
              "\n",
              "    .dataframe thead th {\n",
              "        text-align: right;\n",
              "    }\n",
              "</style>\n",
              "<table border=\"1\" class=\"dataframe\">\n",
              "  <thead>\n",
              "    <tr style=\"text-align: right;\">\n",
              "      <th></th>\n",
              "      <th>longitude</th>\n",
              "      <th>latitude</th>\n",
              "      <th>housing_median_age</th>\n",
              "      <th>total_rooms</th>\n",
              "      <th>total_bedrooms</th>\n",
              "      <th>population</th>\n",
              "      <th>households</th>\n",
              "      <th>median_income</th>\n",
              "      <th>median_house_value</th>\n",
              "    </tr>\n",
              "  </thead>\n",
              "  <tbody>\n",
              "    <tr>\n",
              "      <th>0</th>\n",
              "      <td>-122.23</td>\n",
              "      <td>37.88</td>\n",
              "      <td>41.0</td>\n",
              "      <td>880.0</td>\n",
              "      <td>129.000000</td>\n",
              "      <td>322.0</td>\n",
              "      <td>126.0</td>\n",
              "      <td>8.3252</td>\n",
              "      <td>452600.0</td>\n",
              "    </tr>\n",
              "    <tr>\n",
              "      <th>1</th>\n",
              "      <td>-122.22</td>\n",
              "      <td>37.86</td>\n",
              "      <td>21.0</td>\n",
              "      <td>7099.0</td>\n",
              "      <td>1106.000000</td>\n",
              "      <td>2401.0</td>\n",
              "      <td>1138.0</td>\n",
              "      <td>8.3014</td>\n",
              "      <td>358500.0</td>\n",
              "    </tr>\n",
              "    <tr>\n",
              "      <th>2</th>\n",
              "      <td>-122.24</td>\n",
              "      <td>37.85</td>\n",
              "      <td>52.0</td>\n",
              "      <td>1467.0</td>\n",
              "      <td>190.000000</td>\n",
              "      <td>496.0</td>\n",
              "      <td>177.0</td>\n",
              "      <td>7.2574</td>\n",
              "      <td>352100.0</td>\n",
              "    </tr>\n",
              "    <tr>\n",
              "      <th>3</th>\n",
              "      <td>-122.25</td>\n",
              "      <td>37.85</td>\n",
              "      <td>52.0</td>\n",
              "      <td>1274.0</td>\n",
              "      <td>537.956696</td>\n",
              "      <td>558.0</td>\n",
              "      <td>219.0</td>\n",
              "      <td>5.6431</td>\n",
              "      <td>341300.0</td>\n",
              "    </tr>\n",
              "    <tr>\n",
              "      <th>4</th>\n",
              "      <td>-122.25</td>\n",
              "      <td>37.85</td>\n",
              "      <td>52.0</td>\n",
              "      <td>1627.0</td>\n",
              "      <td>537.956696</td>\n",
              "      <td>565.0</td>\n",
              "      <td>259.0</td>\n",
              "      <td>3.8462</td>\n",
              "      <td>342200.0</td>\n",
              "    </tr>\n",
              "    <tr>\n",
              "      <th>...</th>\n",
              "      <td>...</td>\n",
              "      <td>...</td>\n",
              "      <td>...</td>\n",
              "      <td>...</td>\n",
              "      <td>...</td>\n",
              "      <td>...</td>\n",
              "      <td>...</td>\n",
              "      <td>...</td>\n",
              "      <td>...</td>\n",
              "    </tr>\n",
              "    <tr>\n",
              "      <th>20635</th>\n",
              "      <td>-121.09</td>\n",
              "      <td>39.48</td>\n",
              "      <td>25.0</td>\n",
              "      <td>1665.0</td>\n",
              "      <td>374.000000</td>\n",
              "      <td>845.0</td>\n",
              "      <td>330.0</td>\n",
              "      <td>1.5603</td>\n",
              "      <td>78100.0</td>\n",
              "    </tr>\n",
              "    <tr>\n",
              "      <th>20636</th>\n",
              "      <td>-121.21</td>\n",
              "      <td>39.49</td>\n",
              "      <td>18.0</td>\n",
              "      <td>697.0</td>\n",
              "      <td>150.000000</td>\n",
              "      <td>356.0</td>\n",
              "      <td>114.0</td>\n",
              "      <td>2.5568</td>\n",
              "      <td>77100.0</td>\n",
              "    </tr>\n",
              "    <tr>\n",
              "      <th>20637</th>\n",
              "      <td>-121.22</td>\n",
              "      <td>39.43</td>\n",
              "      <td>17.0</td>\n",
              "      <td>2254.0</td>\n",
              "      <td>485.000000</td>\n",
              "      <td>1007.0</td>\n",
              "      <td>433.0</td>\n",
              "      <td>1.7000</td>\n",
              "      <td>92300.0</td>\n",
              "    </tr>\n",
              "    <tr>\n",
              "      <th>20638</th>\n",
              "      <td>-121.32</td>\n",
              "      <td>39.43</td>\n",
              "      <td>18.0</td>\n",
              "      <td>1860.0</td>\n",
              "      <td>409.000000</td>\n",
              "      <td>741.0</td>\n",
              "      <td>349.0</td>\n",
              "      <td>1.8672</td>\n",
              "      <td>84700.0</td>\n",
              "    </tr>\n",
              "    <tr>\n",
              "      <th>20639</th>\n",
              "      <td>-121.24</td>\n",
              "      <td>39.37</td>\n",
              "      <td>16.0</td>\n",
              "      <td>2785.0</td>\n",
              "      <td>616.000000</td>\n",
              "      <td>1387.0</td>\n",
              "      <td>530.0</td>\n",
              "      <td>2.3886</td>\n",
              "      <td>89400.0</td>\n",
              "    </tr>\n",
              "  </tbody>\n",
              "</table>\n",
              "<p>20640 rows × 9 columns</p>\n",
              "</div>"
            ],
            "text/plain": [
              "       longitude  latitude  housing_median_age  total_rooms  total_bedrooms  \\\n",
              "0        -122.23     37.88                41.0        880.0      129.000000   \n",
              "1        -122.22     37.86                21.0       7099.0     1106.000000   \n",
              "2        -122.24     37.85                52.0       1467.0      190.000000   \n",
              "3        -122.25     37.85                52.0       1274.0      537.956696   \n",
              "4        -122.25     37.85                52.0       1627.0      537.956696   \n",
              "...          ...       ...                 ...          ...             ...   \n",
              "20635    -121.09     39.48                25.0       1665.0      374.000000   \n",
              "20636    -121.21     39.49                18.0        697.0      150.000000   \n",
              "20637    -121.22     39.43                17.0       2254.0      485.000000   \n",
              "20638    -121.32     39.43                18.0       1860.0      409.000000   \n",
              "20639    -121.24     39.37                16.0       2785.0      616.000000   \n",
              "\n",
              "       population  households  median_income  median_house_value  \n",
              "0           322.0       126.0         8.3252            452600.0  \n",
              "1          2401.0      1138.0         8.3014            358500.0  \n",
              "2           496.0       177.0         7.2574            352100.0  \n",
              "3           558.0       219.0         5.6431            341300.0  \n",
              "4           565.0       259.0         3.8462            342200.0  \n",
              "...           ...         ...            ...                 ...  \n",
              "20635       845.0       330.0         1.5603             78100.0  \n",
              "20636       356.0       114.0         2.5568             77100.0  \n",
              "20637      1007.0       433.0         1.7000             92300.0  \n",
              "20638       741.0       349.0         1.8672             84700.0  \n",
              "20639      1387.0       530.0         2.3886             89400.0  \n",
              "\n",
              "[20640 rows x 9 columns]"
            ]
          },
          "metadata": {
            "tags": []
          },
          "execution_count": 17
        }
      ]
    },
    {
      "cell_type": "markdown",
      "metadata": {
        "id": "rAKLfT0NVPBd"
      },
      "source": [
        "As you can see, the total_bedroom is filled with mean. Take for example at index 3 and 4. "
      ]
    },
    {
      "cell_type": "markdown",
      "metadata": {
        "id": "L9ptd3ZLVPBd"
      },
      "source": [
        "But also this brings an issue. You will also find somewhere that the number of bedrooms are greater than the number of rooms in a house and that's again impossible and can lead to wrong analysis."
      ]
    },
    {
      "cell_type": "markdown",
      "metadata": {
        "id": "5cGr5YY3VPBd"
      },
      "source": [
        "## The problem is how do you deal with the missing value effectively? Do you remove them? Or what if there would be other ways to handle it?"
      ]
    },
    {
      "cell_type": "markdown",
      "metadata": {
        "id": "l__nh_5nVPBd"
      },
      "source": [
        "If you had few missing values, no doubt that it would be good to remove them completely to avoid imputing them with irrelevant values. \"\"Quality over quantity\"\"\n",
        "\n",
        "But also you may wish to keep the data and perhaps find a better way to handle the missing values. One of the best way out there (considering all the flaws of the above methods) is to fill the given missing value considering the values of corresponding features. In this case, we will use sklearn method called Iterative Imputer or Regression Imputer. This works on the principle of Linear regression. I will not explain that here, but here is how it is done. \n",
        "\n",
        "What you can know is this estimates each feature from all the others. You can read more about it [here](https://scikit-learn.org/stable/modules/generated/sklearn.impute.IterativeImputer.html#sklearn.impute.IterativeImputer)"
      ]
    },
    {
      "cell_type": "code",
      "metadata": {
        "id": "sL2TbgqyVPBd",
        "outputId": "e6f6650b-f526-46b8-9c1d-9c52cc31f04e"
      },
      "source": [
        "from sklearn.experimental import enable_iterative_imputer\n",
        "from sklearn.impute import IterativeImputer\n",
        "\n",
        "iter_imputer = IterativeImputer()\n",
        "iter_imputer"
      ],
      "execution_count": null,
      "outputs": [
        {
          "output_type": "execute_result",
          "data": {
            "text/plain": [
              "IterativeImputer()"
            ]
          },
          "metadata": {
            "tags": []
          },
          "execution_count": 18
        }
      ]
    },
    {
      "cell_type": "code",
      "metadata": {
        "id": "UfQdtYOqVPBe"
      },
      "source": [
        "housing_imputed=iter_imputer.fit_transform(housing_numeric)"
      ],
      "execution_count": null,
      "outputs": []
    },
    {
      "cell_type": "code",
      "metadata": {
        "id": "gjRmzhnUVPBe",
        "outputId": "36cb8b0d-3e92-4ae6-e4fb-bda008e0c41a"
      },
      "source": [
        "pd.DataFrame(housing_imputed, columns=housing_numeric.columns)"
      ],
      "execution_count": null,
      "outputs": [
        {
          "output_type": "execute_result",
          "data": {
            "text/html": [
              "<div>\n",
              "<style scoped>\n",
              "    .dataframe tbody tr th:only-of-type {\n",
              "        vertical-align: middle;\n",
              "    }\n",
              "\n",
              "    .dataframe tbody tr th {\n",
              "        vertical-align: top;\n",
              "    }\n",
              "\n",
              "    .dataframe thead th {\n",
              "        text-align: right;\n",
              "    }\n",
              "</style>\n",
              "<table border=\"1\" class=\"dataframe\">\n",
              "  <thead>\n",
              "    <tr style=\"text-align: right;\">\n",
              "      <th></th>\n",
              "      <th>longitude</th>\n",
              "      <th>latitude</th>\n",
              "      <th>housing_median_age</th>\n",
              "      <th>total_rooms</th>\n",
              "      <th>total_bedrooms</th>\n",
              "      <th>population</th>\n",
              "      <th>households</th>\n",
              "      <th>median_income</th>\n",
              "      <th>median_house_value</th>\n",
              "    </tr>\n",
              "  </thead>\n",
              "  <tbody>\n",
              "    <tr>\n",
              "      <th>0</th>\n",
              "      <td>-122.23</td>\n",
              "      <td>37.88</td>\n",
              "      <td>41.0</td>\n",
              "      <td>880.0</td>\n",
              "      <td>129.000000</td>\n",
              "      <td>322.0</td>\n",
              "      <td>126.0</td>\n",
              "      <td>8.3252</td>\n",
              "      <td>452600.0</td>\n",
              "    </tr>\n",
              "    <tr>\n",
              "      <th>1</th>\n",
              "      <td>-122.22</td>\n",
              "      <td>37.86</td>\n",
              "      <td>21.0</td>\n",
              "      <td>7099.0</td>\n",
              "      <td>1106.000000</td>\n",
              "      <td>2401.0</td>\n",
              "      <td>1138.0</td>\n",
              "      <td>8.3014</td>\n",
              "      <td>358500.0</td>\n",
              "    </tr>\n",
              "    <tr>\n",
              "      <th>2</th>\n",
              "      <td>-122.24</td>\n",
              "      <td>37.85</td>\n",
              "      <td>52.0</td>\n",
              "      <td>1467.0</td>\n",
              "      <td>190.000000</td>\n",
              "      <td>496.0</td>\n",
              "      <td>177.0</td>\n",
              "      <td>7.2574</td>\n",
              "      <td>352100.0</td>\n",
              "    </tr>\n",
              "    <tr>\n",
              "      <th>3</th>\n",
              "      <td>-122.25</td>\n",
              "      <td>37.85</td>\n",
              "      <td>52.0</td>\n",
              "      <td>1274.0</td>\n",
              "      <td>200.992965</td>\n",
              "      <td>558.0</td>\n",
              "      <td>219.0</td>\n",
              "      <td>5.6431</td>\n",
              "      <td>341300.0</td>\n",
              "    </tr>\n",
              "    <tr>\n",
              "      <th>4</th>\n",
              "      <td>-122.25</td>\n",
              "      <td>37.85</td>\n",
              "      <td>52.0</td>\n",
              "      <td>1627.0</td>\n",
              "      <td>294.006676</td>\n",
              "      <td>565.0</td>\n",
              "      <td>259.0</td>\n",
              "      <td>3.8462</td>\n",
              "      <td>342200.0</td>\n",
              "    </tr>\n",
              "    <tr>\n",
              "      <th>...</th>\n",
              "      <td>...</td>\n",
              "      <td>...</td>\n",
              "      <td>...</td>\n",
              "      <td>...</td>\n",
              "      <td>...</td>\n",
              "      <td>...</td>\n",
              "      <td>...</td>\n",
              "      <td>...</td>\n",
              "      <td>...</td>\n",
              "    </tr>\n",
              "    <tr>\n",
              "      <th>20635</th>\n",
              "      <td>-121.09</td>\n",
              "      <td>39.48</td>\n",
              "      <td>25.0</td>\n",
              "      <td>1665.0</td>\n",
              "      <td>374.000000</td>\n",
              "      <td>845.0</td>\n",
              "      <td>330.0</td>\n",
              "      <td>1.5603</td>\n",
              "      <td>78100.0</td>\n",
              "    </tr>\n",
              "    <tr>\n",
              "      <th>20636</th>\n",
              "      <td>-121.21</td>\n",
              "      <td>39.49</td>\n",
              "      <td>18.0</td>\n",
              "      <td>697.0</td>\n",
              "      <td>150.000000</td>\n",
              "      <td>356.0</td>\n",
              "      <td>114.0</td>\n",
              "      <td>2.5568</td>\n",
              "      <td>77100.0</td>\n",
              "    </tr>\n",
              "    <tr>\n",
              "      <th>20637</th>\n",
              "      <td>-121.22</td>\n",
              "      <td>39.43</td>\n",
              "      <td>17.0</td>\n",
              "      <td>2254.0</td>\n",
              "      <td>485.000000</td>\n",
              "      <td>1007.0</td>\n",
              "      <td>433.0</td>\n",
              "      <td>1.7000</td>\n",
              "      <td>92300.0</td>\n",
              "    </tr>\n",
              "    <tr>\n",
              "      <th>20638</th>\n",
              "      <td>-121.32</td>\n",
              "      <td>39.43</td>\n",
              "      <td>18.0</td>\n",
              "      <td>1860.0</td>\n",
              "      <td>409.000000</td>\n",
              "      <td>741.0</td>\n",
              "      <td>349.0</td>\n",
              "      <td>1.8672</td>\n",
              "      <td>84700.0</td>\n",
              "    </tr>\n",
              "    <tr>\n",
              "      <th>20639</th>\n",
              "      <td>-121.24</td>\n",
              "      <td>39.37</td>\n",
              "      <td>16.0</td>\n",
              "      <td>2785.0</td>\n",
              "      <td>616.000000</td>\n",
              "      <td>1387.0</td>\n",
              "      <td>530.0</td>\n",
              "      <td>2.3886</td>\n",
              "      <td>89400.0</td>\n",
              "    </tr>\n",
              "  </tbody>\n",
              "</table>\n",
              "<p>20640 rows × 9 columns</p>\n",
              "</div>"
            ],
            "text/plain": [
              "       longitude  latitude  housing_median_age  total_rooms  total_bedrooms  \\\n",
              "0        -122.23     37.88                41.0        880.0      129.000000   \n",
              "1        -122.22     37.86                21.0       7099.0     1106.000000   \n",
              "2        -122.24     37.85                52.0       1467.0      190.000000   \n",
              "3        -122.25     37.85                52.0       1274.0      200.992965   \n",
              "4        -122.25     37.85                52.0       1627.0      294.006676   \n",
              "...          ...       ...                 ...          ...             ...   \n",
              "20635    -121.09     39.48                25.0       1665.0      374.000000   \n",
              "20636    -121.21     39.49                18.0        697.0      150.000000   \n",
              "20637    -121.22     39.43                17.0       2254.0      485.000000   \n",
              "20638    -121.32     39.43                18.0       1860.0      409.000000   \n",
              "20639    -121.24     39.37                16.0       2785.0      616.000000   \n",
              "\n",
              "       population  households  median_income  median_house_value  \n",
              "0           322.0       126.0         8.3252            452600.0  \n",
              "1          2401.0      1138.0         8.3014            358500.0  \n",
              "2           496.0       177.0         7.2574            352100.0  \n",
              "3           558.0       219.0         5.6431            341300.0  \n",
              "4           565.0       259.0         3.8462            342200.0  \n",
              "...           ...         ...            ...                 ...  \n",
              "20635       845.0       330.0         1.5603             78100.0  \n",
              "20636       356.0       114.0         2.5568             77100.0  \n",
              "20637      1007.0       433.0         1.7000             92300.0  \n",
              "20638       741.0       349.0         1.8672             84700.0  \n",
              "20639      1387.0       530.0         2.3886             89400.0  \n",
              "\n",
              "[20640 rows x 9 columns]"
            ]
          },
          "metadata": {
            "tags": []
          },
          "execution_count": 22
        }
      ]
    },
    {
      "cell_type": "markdown",
      "metadata": {
        "id": "8J3XBFtEVPBe"
      },
      "source": [
        "As you can see, the missing values are filled in accordance to the other features. For instance, a house with total_room of 1467.0, and bedrooms of 190, and 1274 rooms for 200 for bedrooms. Note that for each values to be missing estimated, every corresponding features is considered. "
      ]
    },
    {
      "cell_type": "markdown",
      "metadata": {
        "id": "c-T418_QVPBe"
      },
      "source": [
        "## There you have it. You now know how to handle the missing values effectively. \n",
        "\n",
        "Thanks for reading and if you find this insigtful, connect with me at [LinkedIn](www.linkedin.com/in/nyandwi/) or follow mw at [Twitter](https://twitter.com/JohnJW). "
      ]
    },
    {
      "cell_type": "code",
      "metadata": {
        "id": "vN5g8NrLVPBf"
      },
      "source": [
        ""
      ],
      "execution_count": null,
      "outputs": []
    }
  ]
}